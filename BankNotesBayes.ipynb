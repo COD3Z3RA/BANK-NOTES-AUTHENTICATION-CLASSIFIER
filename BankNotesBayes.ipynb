{
  "nbformat": 4,
  "nbformat_minor": 0,
  "metadata": {
    "kernelspec": {
      "display_name": "Python 3",
      "language": "python",
      "name": "python3"
    },
    "language_info": {
      "codemirror_mode": {
        "name": "ipython",
        "version": 3
      },
      "file_extension": ".py",
      "mimetype": "text/x-python",
      "name": "python",
      "nbconvert_exporter": "python",
      "pygments_lexer": "ipython3",
      "version": "3.7.4"
    },
    "colab": {
      "name": "BankNotesBayes.ipynb",
      "provenance": []
    }
  },
  "cells": [
    {
      "cell_type": "markdown",
      "metadata": {
        "id": "dFBO7tUacW3R"
      },
      "source": [
        "# Bank Notes Classification\n",
        "# AADHAR DUTTA 2K18/IT/001\n",
        "# DHRUV YADAV 2K18/SE/056\n",
        "\n",
        "\n",
        "\n",
        "\n"
      ]
    },
    {
      "cell_type": "markdown",
      "metadata": {
        "id": "Kc_SH0-WcW3n"
      },
      "source": [
        "##  Imports"
      ]
    },
    {
      "cell_type": "code",
      "metadata": {
        "id": "7BBZcpJAcW3o"
      },
      "source": [
        "# importing necessary libraries\n",
        "\n",
        "import pandas as pd\n",
        "import matplotlib.pyplot as plt\n",
        "from sklearn.preprocessing import StandardScaler\n",
        "import numpy as np\n",
        "from sklearn.model_selection import train_test_split\n",
        "from sklearn.preprocessing import StandardScaler\n",
        "from sklearn.naive_bayes import GaussianNB, MultinomialNB,ComplementNB \n",
        "from sklearn.metrics import confusion_matrix\n",
        "from sklearn.metrics import classification_report\n",
        "import sklearn\n",
        "from sklearn import datasets, metrics, model_selection, svm"
      ],
      "execution_count": null,
      "outputs": []
    },
    {
      "cell_type": "markdown",
      "metadata": {
        "id": "zxLXpYCwcW3p"
      },
      "source": [
        "## Loading Data"
      ]
    },
    {
      "cell_type": "code",
      "metadata": {
        "id": "QrqTOcfzcW3q"
      },
      "source": [
        "df = pd.read_csv('data_banknote_authentication.txt', header = None)"
      ],
      "execution_count": null,
      "outputs": []
    },
    {
      "cell_type": "markdown",
      "metadata": {
        "id": "OHvSea0AcW3q"
      },
      "source": [
        "## Data Visualization and Data Preprocessing"
      ]
    },
    {
      "cell_type": "code",
      "metadata": {
        "id": "BkOTLK6mcW3r",
        "outputId": "be3094b1-cd39-49e4-ab8c-db1a8c594726"
      },
      "source": [
        "print(\"Shape of the dataset : \",df.shape)\n",
        "df"
      ],
      "execution_count": null,
      "outputs": [
        {
          "output_type": "stream",
          "text": [
            "Shape of the dataset :  (1372, 5)\n"
          ],
          "name": "stdout"
        },
        {
          "output_type": "execute_result",
          "data": {
            "text/html": [
              "<div>\n",
              "<style scoped>\n",
              "    .dataframe tbody tr th:only-of-type {\n",
              "        vertical-align: middle;\n",
              "    }\n",
              "\n",
              "    .dataframe tbody tr th {\n",
              "        vertical-align: top;\n",
              "    }\n",
              "\n",
              "    .dataframe thead th {\n",
              "        text-align: right;\n",
              "    }\n",
              "</style>\n",
              "<table border=\"1\" class=\"dataframe\">\n",
              "  <thead>\n",
              "    <tr style=\"text-align: right;\">\n",
              "      <th></th>\n",
              "      <th>0</th>\n",
              "      <th>1</th>\n",
              "      <th>2</th>\n",
              "      <th>3</th>\n",
              "      <th>4</th>\n",
              "    </tr>\n",
              "  </thead>\n",
              "  <tbody>\n",
              "    <tr>\n",
              "      <th>0</th>\n",
              "      <td>3.62160</td>\n",
              "      <td>8.66610</td>\n",
              "      <td>-2.8073</td>\n",
              "      <td>-0.44699</td>\n",
              "      <td>0</td>\n",
              "    </tr>\n",
              "    <tr>\n",
              "      <th>1</th>\n",
              "      <td>4.54590</td>\n",
              "      <td>8.16740</td>\n",
              "      <td>-2.4586</td>\n",
              "      <td>-1.46210</td>\n",
              "      <td>0</td>\n",
              "    </tr>\n",
              "    <tr>\n",
              "      <th>2</th>\n",
              "      <td>3.86600</td>\n",
              "      <td>-2.63830</td>\n",
              "      <td>1.9242</td>\n",
              "      <td>0.10645</td>\n",
              "      <td>0</td>\n",
              "    </tr>\n",
              "    <tr>\n",
              "      <th>3</th>\n",
              "      <td>3.45660</td>\n",
              "      <td>9.52280</td>\n",
              "      <td>-4.0112</td>\n",
              "      <td>-3.59440</td>\n",
              "      <td>0</td>\n",
              "    </tr>\n",
              "    <tr>\n",
              "      <th>4</th>\n",
              "      <td>0.32924</td>\n",
              "      <td>-4.45520</td>\n",
              "      <td>4.5718</td>\n",
              "      <td>-0.98880</td>\n",
              "      <td>0</td>\n",
              "    </tr>\n",
              "    <tr>\n",
              "      <th>...</th>\n",
              "      <td>...</td>\n",
              "      <td>...</td>\n",
              "      <td>...</td>\n",
              "      <td>...</td>\n",
              "      <td>...</td>\n",
              "    </tr>\n",
              "    <tr>\n",
              "      <th>1367</th>\n",
              "      <td>0.40614</td>\n",
              "      <td>1.34920</td>\n",
              "      <td>-1.4501</td>\n",
              "      <td>-0.55949</td>\n",
              "      <td>1</td>\n",
              "    </tr>\n",
              "    <tr>\n",
              "      <th>1368</th>\n",
              "      <td>-1.38870</td>\n",
              "      <td>-4.87730</td>\n",
              "      <td>6.4774</td>\n",
              "      <td>0.34179</td>\n",
              "      <td>1</td>\n",
              "    </tr>\n",
              "    <tr>\n",
              "      <th>1369</th>\n",
              "      <td>-3.75030</td>\n",
              "      <td>-13.45860</td>\n",
              "      <td>17.5932</td>\n",
              "      <td>-2.77710</td>\n",
              "      <td>1</td>\n",
              "    </tr>\n",
              "    <tr>\n",
              "      <th>1370</th>\n",
              "      <td>-3.56370</td>\n",
              "      <td>-8.38270</td>\n",
              "      <td>12.3930</td>\n",
              "      <td>-1.28230</td>\n",
              "      <td>1</td>\n",
              "    </tr>\n",
              "    <tr>\n",
              "      <th>1371</th>\n",
              "      <td>-2.54190</td>\n",
              "      <td>-0.65804</td>\n",
              "      <td>2.6842</td>\n",
              "      <td>1.19520</td>\n",
              "      <td>1</td>\n",
              "    </tr>\n",
              "  </tbody>\n",
              "</table>\n",
              "<p>1372 rows × 5 columns</p>\n",
              "</div>"
            ],
            "text/plain": [
              "            0         1        2        3  4\n",
              "0     3.62160   8.66610  -2.8073 -0.44699  0\n",
              "1     4.54590   8.16740  -2.4586 -1.46210  0\n",
              "2     3.86600  -2.63830   1.9242  0.10645  0\n",
              "3     3.45660   9.52280  -4.0112 -3.59440  0\n",
              "4     0.32924  -4.45520   4.5718 -0.98880  0\n",
              "...       ...       ...      ...      ... ..\n",
              "1367  0.40614   1.34920  -1.4501 -0.55949  1\n",
              "1368 -1.38870  -4.87730   6.4774  0.34179  1\n",
              "1369 -3.75030 -13.45860  17.5932 -2.77710  1\n",
              "1370 -3.56370  -8.38270  12.3930 -1.28230  1\n",
              "1371 -2.54190  -0.65804   2.6842  1.19520  1\n",
              "\n",
              "[1372 rows x 5 columns]"
            ]
          },
          "metadata": {
            "tags": []
          },
          "execution_count": 3
        }
      ]
    },
    {
      "cell_type": "code",
      "metadata": {
        "id": "vcIurI-HcW3s",
        "outputId": "eeded934-f8a6-467d-fc1c-6666e0c5c7ae"
      },
      "source": [
        "counts = df[4].value_counts()\n",
        "classes = ['class 0', 'class 1']\n",
        "plt.title('count of notes')\n",
        "plt.bar(classes,counts)\n",
        "plt.show()"
      ],
      "execution_count": null,
      "outputs": [
        {
          "output_type": "display_data",
          "data": {
            "image/png": "[encoded data removed]",
            "text/plain": [
              "<Figure size 432x288 with 1 Axes>"
            ]
          },
          "metadata": {
            "tags": [],
            "needs_background": "light"
          }
        }
      ]
    },
    {
      "cell_type": "code",
      "metadata": {
        "id": "wYcBZxnacW3t",
        "outputId": "1eebb0b9-e7f8-43a0-a96b-a73623531bcc"
      },
      "source": [
        "df.describe()"
      ],
      "execution_count": null,
      "outputs": [
        {
          "output_type": "execute_result",
          "data": {
            "text/html": [
              "<div>\n",
              "<style scoped>\n",
              "    .dataframe tbody tr th:only-of-type {\n",
              "        vertical-align: middle;\n",
              "    }\n",
              "\n",
              "    .dataframe tbody tr th {\n",
              "        vertical-align: top;\n",
              "    }\n",
              "\n",
              "    .dataframe thead th {\n",
              "        text-align: right;\n",
              "    }\n",
              "</style>\n",
              "<table border=\"1\" class=\"dataframe\">\n",
              "  <thead>\n",
              "    <tr style=\"text-align: right;\">\n",
              "      <th></th>\n",
              "      <th>0</th>\n",
              "      <th>1</th>\n",
              "      <th>2</th>\n",
              "      <th>3</th>\n",
              "      <th>4</th>\n",
              "    </tr>\n",
              "  </thead>\n",
              "  <tbody>\n",
              "    <tr>\n",
              "      <th>count</th>\n",
              "      <td>1372.000000</td>\n",
              "      <td>1372.000000</td>\n",
              "      <td>1372.000000</td>\n",
              "      <td>1372.000000</td>\n",
              "      <td>1372.000000</td>\n",
              "    </tr>\n",
              "    <tr>\n",
              "      <th>mean</th>\n",
              "      <td>0.433735</td>\n",
              "      <td>1.922353</td>\n",
              "      <td>1.397627</td>\n",
              "      <td>-1.191657</td>\n",
              "      <td>0.444606</td>\n",
              "    </tr>\n",
              "    <tr>\n",
              "      <th>std</th>\n",
              "      <td>2.842763</td>\n",
              "      <td>5.869047</td>\n",
              "      <td>4.310030</td>\n",
              "      <td>2.101013</td>\n",
              "      <td>0.497103</td>\n",
              "    </tr>\n",
              "    <tr>\n",
              "      <th>min</th>\n",
              "      <td>-7.042100</td>\n",
              "      <td>-13.773100</td>\n",
              "      <td>-5.286100</td>\n",
              "      <td>-8.548200</td>\n",
              "      <td>0.000000</td>\n",
              "    </tr>\n",
              "    <tr>\n",
              "      <th>25%</th>\n",
              "      <td>-1.773000</td>\n",
              "      <td>-1.708200</td>\n",
              "      <td>-1.574975</td>\n",
              "      <td>-2.413450</td>\n",
              "      <td>0.000000</td>\n",
              "    </tr>\n",
              "    <tr>\n",
              "      <th>50%</th>\n",
              "      <td>0.496180</td>\n",
              "      <td>2.319650</td>\n",
              "      <td>0.616630</td>\n",
              "      <td>-0.586650</td>\n",
              "      <td>0.000000</td>\n",
              "    </tr>\n",
              "    <tr>\n",
              "      <th>75%</th>\n",
              "      <td>2.821475</td>\n",
              "      <td>6.814625</td>\n",
              "      <td>3.179250</td>\n",
              "      <td>0.394810</td>\n",
              "      <td>1.000000</td>\n",
              "    </tr>\n",
              "    <tr>\n",
              "      <th>max</th>\n",
              "      <td>6.824800</td>\n",
              "      <td>12.951600</td>\n",
              "      <td>17.927400</td>\n",
              "      <td>2.449500</td>\n",
              "      <td>1.000000</td>\n",
              "    </tr>\n",
              "  </tbody>\n",
              "</table>\n",
              "</div>"
            ],
            "text/plain": [
              "                 0            1            2            3            4\n",
              "count  1372.000000  1372.000000  1372.000000  1372.000000  1372.000000\n",
              "mean      0.433735     1.922353     1.397627    -1.191657     0.444606\n",
              "std       2.842763     5.869047     4.310030     2.101013     0.497103\n",
              "min      -7.042100   -13.773100    -5.286100    -8.548200     0.000000\n",
              "25%      -1.773000    -1.708200    -1.574975    -2.413450     0.000000\n",
              "50%       0.496180     2.319650     0.616630    -0.586650     0.000000\n",
              "75%       2.821475     6.814625     3.179250     0.394810     1.000000\n",
              "max       6.824800    12.951600    17.927400     2.449500     1.000000"
            ]
          },
          "metadata": {
            "tags": []
          },
          "execution_count": 5
        }
      ]
    },
    {
      "cell_type": "code",
      "metadata": {
        "id": "7fmTcDuNcW3u",
        "outputId": "35da69bb-2c6c-4ddc-93e3-624bbdb50765"
      },
      "source": [
        "# checking for null values in the dataset.\n",
        "\n",
        "df.isnull().sum()\n",
        "\n",
        "# found 0 Null values"
      ],
      "execution_count": null,
      "outputs": [
        {
          "output_type": "execute_result",
          "data": {
            "text/plain": [
              "0    0\n",
              "1    0\n",
              "2    0\n",
              "3    0\n",
              "4    0\n",
              "dtype: int64"
            ]
          },
          "metadata": {
            "tags": []
          },
          "execution_count": 6
        }
      ]
    },
    {
      "cell_type": "code",
      "metadata": {
        "id": "siFzjhSPcW3u",
        "outputId": "9774bb50-c243-4faf-ec0a-ebffefa9e63e"
      },
      "source": [
        "# Number of duplicates values\n",
        "\n",
        "print(\"Number of duplicates : \", df.duplicated().sum())"
      ],
      "execution_count": null,
      "outputs": [
        {
          "output_type": "stream",
          "text": [
            "Number of duplicates :  24\n"
          ],
          "name": "stdout"
        }
      ]
    },
    {
      "cell_type": "code",
      "metadata": {
        "id": "tn1RWhhrcW3v",
        "outputId": "b34345f7-773f-4b6d-9c4b-26d19e69bac9"
      },
      "source": [
        "# list of duplicated values\n",
        "\n",
        "df[df.duplicated()]"
      ],
      "execution_count": null,
      "outputs": [
        {
          "output_type": "execute_result",
          "data": {
            "text/html": [
              "<div>\n",
              "<style scoped>\n",
              "    .dataframe tbody tr th:only-of-type {\n",
              "        vertical-align: middle;\n",
              "    }\n",
              "\n",
              "    .dataframe tbody tr th {\n",
              "        vertical-align: top;\n",
              "    }\n",
              "\n",
              "    .dataframe thead th {\n",
              "        text-align: right;\n",
              "    }\n",
              "</style>\n",
              "<table border=\"1\" class=\"dataframe\">\n",
              "  <thead>\n",
              "    <tr style=\"text-align: right;\">\n",
              "      <th></th>\n",
              "      <th>0</th>\n",
              "      <th>1</th>\n",
              "      <th>2</th>\n",
              "      <th>3</th>\n",
              "      <th>4</th>\n",
              "    </tr>\n",
              "  </thead>\n",
              "  <tbody>\n",
              "    <tr>\n",
              "      <th>47</th>\n",
              "      <td>-0.7869</td>\n",
              "      <td>9.5663</td>\n",
              "      <td>-3.7867</td>\n",
              "      <td>-7.5034</td>\n",
              "      <td>0</td>\n",
              "    </tr>\n",
              "    <tr>\n",
              "      <th>139</th>\n",
              "      <td>-0.2062</td>\n",
              "      <td>9.2207</td>\n",
              "      <td>-3.7044</td>\n",
              "      <td>-6.8103</td>\n",
              "      <td>0</td>\n",
              "    </tr>\n",
              "    <tr>\n",
              "      <th>190</th>\n",
              "      <td>0.9297</td>\n",
              "      <td>-3.7971</td>\n",
              "      <td>4.6429</td>\n",
              "      <td>-0.2957</td>\n",
              "      <td>0</td>\n",
              "    </tr>\n",
              "    <tr>\n",
              "      <th>195</th>\n",
              "      <td>-1.8584</td>\n",
              "      <td>7.8860</td>\n",
              "      <td>-1.6643</td>\n",
              "      <td>-1.8384</td>\n",
              "      <td>0</td>\n",
              "    </tr>\n",
              "    <tr>\n",
              "      <th>226</th>\n",
              "      <td>0.5706</td>\n",
              "      <td>-0.0248</td>\n",
              "      <td>1.2421</td>\n",
              "      <td>-0.5621</td>\n",
              "      <td>0</td>\n",
              "    </tr>\n",
              "    <tr>\n",
              "      <th>268</th>\n",
              "      <td>0.9297</td>\n",
              "      <td>-3.7971</td>\n",
              "      <td>4.6429</td>\n",
              "      <td>-0.2957</td>\n",
              "      <td>0</td>\n",
              "    </tr>\n",
              "    <tr>\n",
              "      <th>284</th>\n",
              "      <td>-1.3000</td>\n",
              "      <td>10.2678</td>\n",
              "      <td>-2.9530</td>\n",
              "      <td>-5.8638</td>\n",
              "      <td>0</td>\n",
              "    </tr>\n",
              "    <tr>\n",
              "      <th>300</th>\n",
              "      <td>0.3292</td>\n",
              "      <td>-4.4552</td>\n",
              "      <td>4.5718</td>\n",
              "      <td>-0.9888</td>\n",
              "      <td>0</td>\n",
              "    </tr>\n",
              "    <tr>\n",
              "      <th>315</th>\n",
              "      <td>0.3292</td>\n",
              "      <td>-4.4552</td>\n",
              "      <td>4.5718</td>\n",
              "      <td>-0.9888</td>\n",
              "      <td>0</td>\n",
              "    </tr>\n",
              "    <tr>\n",
              "      <th>320</th>\n",
              "      <td>0.5195</td>\n",
              "      <td>-3.2633</td>\n",
              "      <td>3.0895</td>\n",
              "      <td>-0.9849</td>\n",
              "      <td>0</td>\n",
              "    </tr>\n",
              "    <tr>\n",
              "      <th>345</th>\n",
              "      <td>-1.8584</td>\n",
              "      <td>7.8860</td>\n",
              "      <td>-1.6643</td>\n",
              "      <td>-1.8384</td>\n",
              "      <td>0</td>\n",
              "    </tr>\n",
              "    <tr>\n",
              "      <th>351</th>\n",
              "      <td>0.5195</td>\n",
              "      <td>-3.2633</td>\n",
              "      <td>3.0895</td>\n",
              "      <td>-0.9849</td>\n",
              "      <td>0</td>\n",
              "    </tr>\n",
              "    <tr>\n",
              "      <th>352</th>\n",
              "      <td>0.3292</td>\n",
              "      <td>-4.4552</td>\n",
              "      <td>4.5718</td>\n",
              "      <td>-0.9888</td>\n",
              "      <td>0</td>\n",
              "    </tr>\n",
              "    <tr>\n",
              "      <th>404</th>\n",
              "      <td>0.3798</td>\n",
              "      <td>0.7098</td>\n",
              "      <td>0.7572</td>\n",
              "      <td>-0.4444</td>\n",
              "      <td>0</td>\n",
              "    </tr>\n",
              "    <tr>\n",
              "      <th>427</th>\n",
              "      <td>-1.3000</td>\n",
              "      <td>10.2678</td>\n",
              "      <td>-2.9530</td>\n",
              "      <td>-5.8638</td>\n",
              "      <td>0</td>\n",
              "    </tr>\n",
              "    <tr>\n",
              "      <th>436</th>\n",
              "      <td>0.3798</td>\n",
              "      <td>0.7098</td>\n",
              "      <td>0.7572</td>\n",
              "      <td>-0.4444</td>\n",
              "      <td>0</td>\n",
              "    </tr>\n",
              "    <tr>\n",
              "      <th>476</th>\n",
              "      <td>0.3798</td>\n",
              "      <td>0.7098</td>\n",
              "      <td>0.7572</td>\n",
              "      <td>-0.4444</td>\n",
              "      <td>0</td>\n",
              "    </tr>\n",
              "    <tr>\n",
              "      <th>498</th>\n",
              "      <td>0.5706</td>\n",
              "      <td>-0.0248</td>\n",
              "      <td>1.2421</td>\n",
              "      <td>-0.5621</td>\n",
              "      <td>0</td>\n",
              "    </tr>\n",
              "    <tr>\n",
              "      <th>604</th>\n",
              "      <td>-2.6479</td>\n",
              "      <td>10.1374</td>\n",
              "      <td>-1.3310</td>\n",
              "      <td>-5.4707</td>\n",
              "      <td>0</td>\n",
              "    </tr>\n",
              "    <tr>\n",
              "      <th>615</th>\n",
              "      <td>-0.2062</td>\n",
              "      <td>9.2207</td>\n",
              "      <td>-3.7044</td>\n",
              "      <td>-6.8103</td>\n",
              "      <td>0</td>\n",
              "    </tr>\n",
              "    <tr>\n",
              "      <th>657</th>\n",
              "      <td>-0.2780</td>\n",
              "      <td>8.1881</td>\n",
              "      <td>-3.1338</td>\n",
              "      <td>-2.5276</td>\n",
              "      <td>0</td>\n",
              "    </tr>\n",
              "    <tr>\n",
              "      <th>691</th>\n",
              "      <td>0.5706</td>\n",
              "      <td>-0.0248</td>\n",
              "      <td>1.2421</td>\n",
              "      <td>-0.5621</td>\n",
              "      <td>0</td>\n",
              "    </tr>\n",
              "    <tr>\n",
              "      <th>716</th>\n",
              "      <td>0.5195</td>\n",
              "      <td>-3.2633</td>\n",
              "      <td>3.0895</td>\n",
              "      <td>-0.9849</td>\n",
              "      <td>0</td>\n",
              "    </tr>\n",
              "    <tr>\n",
              "      <th>727</th>\n",
              "      <td>-2.6479</td>\n",
              "      <td>10.1374</td>\n",
              "      <td>-1.3310</td>\n",
              "      <td>-5.4707</td>\n",
              "      <td>0</td>\n",
              "    </tr>\n",
              "  </tbody>\n",
              "</table>\n",
              "</div>"
            ],
            "text/plain": [
              "          0        1       2       3  4\n",
              "47  -0.7869   9.5663 -3.7867 -7.5034  0\n",
              "139 -0.2062   9.2207 -3.7044 -6.8103  0\n",
              "190  0.9297  -3.7971  4.6429 -0.2957  0\n",
              "195 -1.8584   7.8860 -1.6643 -1.8384  0\n",
              "226  0.5706  -0.0248  1.2421 -0.5621  0\n",
              "268  0.9297  -3.7971  4.6429 -0.2957  0\n",
              "284 -1.3000  10.2678 -2.9530 -5.8638  0\n",
              "300  0.3292  -4.4552  4.5718 -0.9888  0\n",
              "315  0.3292  -4.4552  4.5718 -0.9888  0\n",
              "320  0.5195  -3.2633  3.0895 -0.9849  0\n",
              "345 -1.8584   7.8860 -1.6643 -1.8384  0\n",
              "351  0.5195  -3.2633  3.0895 -0.9849  0\n",
              "352  0.3292  -4.4552  4.5718 -0.9888  0\n",
              "404  0.3798   0.7098  0.7572 -0.4444  0\n",
              "427 -1.3000  10.2678 -2.9530 -5.8638  0\n",
              "436  0.3798   0.7098  0.7572 -0.4444  0\n",
              "476  0.3798   0.7098  0.7572 -0.4444  0\n",
              "498  0.5706  -0.0248  1.2421 -0.5621  0\n",
              "604 -2.6479  10.1374 -1.3310 -5.4707  0\n",
              "615 -0.2062   9.2207 -3.7044 -6.8103  0\n",
              "657 -0.2780   8.1881 -3.1338 -2.5276  0\n",
              "691  0.5706  -0.0248  1.2421 -0.5621  0\n",
              "716  0.5195  -3.2633  3.0895 -0.9849  0\n",
              "727 -2.6479  10.1374 -1.3310 -5.4707  0"
            ]
          },
          "metadata": {
            "tags": []
          },
          "execution_count": 8
        }
      ]
    },
    {
      "cell_type": "code",
      "metadata": {
        "id": "J5TFhPZncW3w",
        "outputId": "c959ae90-d801-4cad-c569-cdff7511c501"
      },
      "source": [
        "# removing the duplicated values\n",
        "\n",
        "df = df.drop_duplicates(keep='first')\n",
        "print(\"Shape of dataframe after removing duplicates : \", df.shape)"
      ],
      "execution_count": null,
      "outputs": [
        {
          "output_type": "stream",
          "text": [
            "Shape of dataframe after removing duplicates :  (1348, 5)\n"
          ],
          "name": "stdout"
        }
      ]
    },
    {
      "cell_type": "code",
      "metadata": {
        "id": "w-45bLzgcW3w",
        "outputId": "15035982-c906-4d80-93d3-225445136638"
      },
      "source": [
        "print(\"Number of data points with class 0 : \",df[4].value_counts()[0])\n",
        "print(\"Number of data points with class 1 : \", df[4].value_counts()[1])"
      ],
      "execution_count": null,
      "outputs": [
        {
          "output_type": "stream",
          "text": [
            "Number of data points with class 0 :  738\n",
            "Number of data points with class 1 :  610\n"
          ],
          "name": "stdout"
        }
      ]
    },
    {
      "cell_type": "code",
      "metadata": {
        "id": "zSc3N-ybcW3x",
        "outputId": "3b8bb6e3-d1d1-48a6-9658-be6421ea3f1d"
      },
      "source": [
        "counts = df[4].value_counts()\n",
        "classes = ['class 0', 'class 1']\n",
        "plt.title('count of notes')\n",
        "plt.bar(classes,counts)\n",
        "plt.show()\n",
        "print(counts[0]/(counts[0]+counts[1])*100)"
      ],
      "execution_count": null,
      "outputs": [
        {
          "output_type": "display_data",
          "data": {
            "image/png": "[encoded data removed]",
            "text/plain": [
              "<Figure size 432x288 with 1 Axes>"
            ]
          },
          "metadata": {
            "tags": [],
            "needs_background": "light"
          }
        },
        {
          "output_type": "stream",
          "text": [
            "54.74777448071217\n"
          ],
          "name": "stdout"
        }
      ]
    },
    {
      "cell_type": "code",
      "metadata": {
        "id": "tnsEsvtJcW3y",
        "outputId": "233df275-cf9a-4594-92c8-59501ff5a954"
      },
      "source": [
        "Y = df[4]\n",
        "Y = np.array(Y)\n",
        "Y , Y.shape\n"
      ],
      "execution_count": null,
      "outputs": [
        {
          "output_type": "execute_result",
          "data": {
            "text/plain": [
              "(array([0, 0, 0, ..., 1, 1, 1], dtype=int64), (1348,))"
            ]
          },
          "metadata": {
            "tags": []
          },
          "execution_count": 12
        }
      ]
    },
    {
      "cell_type": "code",
      "metadata": {
        "id": "CMv-5LKocW3z",
        "outputId": "771575a5-1980-4284-96c4-d420f9727392"
      },
      "source": [
        "X = df.drop(4, axis = 1)\n",
        "X = np.array(X)\n",
        "X , X.shape"
      ],
      "execution_count": null,
      "outputs": [
        {
          "output_type": "execute_result",
          "data": {
            "text/plain": [
              "(array([[  3.6216 ,   8.6661 ,  -2.8073 ,  -0.44699],\n",
              "        [  4.5459 ,   8.1674 ,  -2.4586 ,  -1.4621 ],\n",
              "        [  3.866  ,  -2.6383 ,   1.9242 ,   0.10645],\n",
              "        ...,\n",
              "        [ -3.7503 , -13.4586 ,  17.5932 ,  -2.7771 ],\n",
              "        [ -3.5637 ,  -8.3827 ,  12.393  ,  -1.2823 ],\n",
              "        [ -2.5419 ,  -0.65804,   2.6842 ,   1.1952 ]]), (1348, 4))"
            ]
          },
          "metadata": {
            "tags": []
          },
          "execution_count": 13
        }
      ]
    },
    {
      "cell_type": "markdown",
      "metadata": {
        "id": "AAX-BOLDcW30"
      },
      "source": [
        "## Splitting Data into Train, Test Set"
      ]
    },
    {
      "cell_type": "code",
      "metadata": {
        "id": "_5cS0SzxcW31"
      },
      "source": [
        "# splitting the data into test, trian Set\n",
        "X_train, X_test, Y_train,  Y_test = train_test_split(X, Y, test_size=0.50, random_state=1,stratify=Y)\n"
      ],
      "execution_count": null,
      "outputs": []
    },
    {
      "cell_type": "code",
      "metadata": {
        "id": "ofGZLQ2NcW31",
        "outputId": "6f06d997-4e18-4599-fb68-33e2a4ef6dde"
      },
      "source": [
        "# shape of test, train dataset\n",
        "\n",
        "print(\"X_train : \", X_train.shape)\n",
        "print(\"Y_train : \", Y_train.shape)\n",
        "print(\"X_test : \", X_test.shape)\n",
        "print(\"Y_test : \", Y_test.shape)"
      ],
      "execution_count": null,
      "outputs": [
        {
          "output_type": "stream",
          "text": [
            "X_train :  (674, 4)\n",
            "Y_train :  (674,)\n",
            "X_test :  (674, 4)\n",
            "Y_test :  (674,)\n"
          ],
          "name": "stdout"
        }
      ]
    },
    {
      "cell_type": "code",
      "metadata": {
        "id": "af_xEyA2cW32",
        "outputId": "f2bd8c3d-4c88-449c-bd13-bda3269c57be"
      },
      "source": [
        "# bar graph representing number of data points of each class in test, train set\n",
        "\n",
        "_,counts = np.unique(Y_train,return_counts=True)\n",
        "classes = ['class 0', 'class 1']\n",
        "plt.title('count of classes for Y_train')\n",
        "plt.bar(classes,counts,width = 0.5)\n",
        "plt.show()\n",
        "\n",
        "\n",
        "_,counts = np.unique(Y_test,return_counts=True)\n",
        "classes = ['class 0', 'class 1']\n",
        "plt.title('count of classes for Y_test')\n",
        "plt.bar(classes,counts,width = 0.5)\n",
        "plt.show()"
      ],
      "execution_count": null,
      "outputs": [
        {
          "output_type": "display_data",
          "data": {
            "image/png": "[encoded data removed]",
            "text/plain": [
              "<Figure size 432x288 with 1 Axes>"
            ]
          },
          "metadata": {
            "tags": [],
            "needs_background": "light"
          }
        },
        {
          "output_type": "display_data",
          "data": {
            "image/png": "[encoded data removed]",
            "text/plain": [
              "<Figure size 432x288 with 1 Axes>"
            ]
          },
          "metadata": {
            "tags": [],
            "needs_background": "light"
          }
        }
      ]
    },
    {
      "cell_type": "markdown",
      "metadata": {
        "id": "PHAWx4WCcW33"
      },
      "source": [
        "## Scaling The Dataset"
      ]
    },
    {
      "cell_type": "code",
      "metadata": {
        "id": "d40hptmIcW34"
      },
      "source": [
        "# scaling the dataset for better results\n",
        "\n",
        "scaler = StandardScaler()\n",
        "scaler.fit(X_train)\n",
        "X_train = scaler.transform(X_train)\n",
        "X_test = scaler.transform(X_test)"
      ],
      "execution_count": null,
      "outputs": []
    },
    {
      "cell_type": "code",
      "metadata": {
        "id": "6m1uLvu0cW34",
        "outputId": "6ac95386-868e-469b-e00f-728abbe03996"
      },
      "source": [
        "X_train, X_test"
      ],
      "execution_count": null,
      "outputs": [
        {
          "output_type": "execute_result",
          "data": {
            "text/plain": [
              "(array([[ 0.15868793,  0.27730858, -1.31367288, -0.28795799],\n",
              "        [-0.65122439,  1.73743507, -0.2684993 , -2.84988993],\n",
              "        [ 0.23431065,  0.38448481,  0.42841163,  0.92359515],\n",
              "        ...,\n",
              "        [ 0.14875369,  0.83334294, -0.23525441,  0.30505392],\n",
              "        [-0.47141151, -1.64405172,  1.21905287,  0.6821517 ],\n",
              "        [-1.33662133,  0.53730067, -0.54546447, -1.82438568]]),\n",
              " array([[-0.02039832,  0.88393969, -0.11829196,  0.19242169],\n",
              "        [ 0.30064274,  0.27024897, -0.31055324,  0.46000082],\n",
              "        [ 0.58040012, -0.64197967,  0.23196669,  0.48800272],\n",
              "        ...,\n",
              "        [-0.54458095,  1.54041543,  0.12361229, -2.20147866],\n",
              "        [ 0.06519325,  0.92072489, -0.28411907,  0.31874495],\n",
              "        [ 0.61880837, -1.00135334,  0.85738849,  0.32434649]]))"
            ]
          },
          "metadata": {
            "tags": []
          },
          "execution_count": 18
        }
      ]
    },
    {
      "cell_type": "markdown",
      "metadata": {
        "id": "QerY98PpcW34"
      },
      "source": [
        "## Gaussian Naive Bayes Classifier (A)"
      ]
    },
    {
      "cell_type": "code",
      "metadata": {
        "id": "WsnD0FmicW35",
        "outputId": "cacb99e6-84af-4fd6-e8ef-6182e460a065"
      },
      "source": [
        "# fitting the model\n",
        "# setting priors as mentioned in the question. Both classes are equiprobable\n",
        "\n",
        "clf = GaussianNB(priors=[0.5, 0.5])\n",
        "clf.fit(X_train, Y_train)"
      ],
      "execution_count": null,
      "outputs": [
        {
          "output_type": "execute_result",
          "data": {
            "text/plain": [
              "GaussianNB(priors=[0.5, 0.5])"
            ]
          },
          "metadata": {
            "tags": []
          },
          "execution_count": 19
        }
      ]
    },
    {
      "cell_type": "code",
      "metadata": {
        "id": "ONjSXx_ScW35",
        "outputId": "a944b239-444a-4eda-ac1c-b9c35c44c2a9"
      },
      "source": [
        "# finding predictions\n",
        "\n",
        "y_pred = clf.predict(X_test)\n",
        "y_pred"
      ],
      "execution_count": null,
      "outputs": [
        {
          "output_type": "execute_result",
          "data": {
            "text/plain": [
              "array([0, 0, 0, 1, 1, 1, 0, 0, 1, 0, 1, 0, 1, 0, 0, 1, 0, 1, 1, 1, 0, 0,\n",
              "       0, 0, 1, 0, 1, 0, 0, 1, 0, 1, 1, 0, 1, 1, 1, 0, 0, 0, 0, 0, 0, 1,\n",
              "       0, 1, 1, 0, 0, 0, 1, 0, 0, 0, 0, 0, 0, 1, 0, 1, 0, 1, 0, 1, 1, 1,\n",
              "       0, 1, 1, 0, 1, 1, 1, 0, 0, 1, 0, 1, 0, 1, 0, 0, 0, 1, 0, 0, 0, 0,\n",
              "       1, 0, 0, 0, 0, 0, 0, 1, 1, 1, 1, 1, 1, 0, 0, 1, 0, 0, 0, 0, 1, 1,\n",
              "       1, 0, 0, 1, 1, 0, 1, 1, 1, 0, 1, 0, 0, 1, 0, 1, 0, 1, 0, 1, 0, 0,\n",
              "       0, 0, 0, 0, 0, 0, 0, 0, 1, 1, 0, 1, 0, 0, 1, 1, 0, 1, 0, 0, 1, 1,\n",
              "       1, 0, 0, 1, 1, 1, 1, 0, 1, 0, 1, 0, 0, 0, 1, 0, 0, 1, 0, 1, 0, 1,\n",
              "       0, 1, 0, 0, 1, 0, 0, 1, 0, 1, 1, 1, 0, 0, 1, 1, 0, 0, 0, 1, 0, 0,\n",
              "       1, 1, 1, 0, 1, 0, 0, 0, 1, 0, 0, 0, 0, 0, 1, 0, 1, 0, 0, 0, 0, 0,\n",
              "       1, 1, 0, 0, 1, 1, 1, 0, 1, 1, 0, 1, 0, 1, 1, 0, 0, 0, 0, 0, 1, 1,\n",
              "       0, 1, 1, 1, 1, 1, 1, 0, 0, 0, 1, 1, 1, 0, 0, 1, 0, 0, 0, 1, 1, 1,\n",
              "       1, 0, 1, 0, 0, 1, 1, 1, 0, 0, 0, 0, 0, 0, 0, 0, 1, 1, 1, 0, 0, 0,\n",
              "       1, 0, 1, 1, 0, 0, 0, 0, 1, 0, 0, 1, 1, 0, 0, 0, 1, 0, 0, 0, 1, 0,\n",
              "       0, 0, 0, 0, 0, 0, 0, 0, 0, 1, 1, 1, 0, 1, 0, 1, 1, 0, 0, 1, 1, 1,\n",
              "       1, 0, 0, 0, 1, 1, 1, 0, 1, 1, 0, 0, 0, 1, 1, 1, 0, 1, 1, 0, 1, 0,\n",
              "       0, 0, 0, 0, 0, 0, 0, 0, 0, 1, 1, 1, 0, 1, 0, 0, 1, 0, 1, 1, 1, 0,\n",
              "       0, 1, 0, 0, 1, 0, 0, 0, 0, 0, 1, 0, 1, 0, 0, 0, 0, 0, 1, 0, 0, 0,\n",
              "       1, 0, 0, 0, 0, 1, 0, 0, 0, 1, 0, 1, 0, 1, 1, 1, 0, 0, 0, 1, 0, 0,\n",
              "       1, 0, 0, 0, 0, 0, 0, 0, 0, 0, 1, 1, 0, 1, 1, 0, 0, 1, 1, 0, 0, 0,\n",
              "       1, 0, 0, 1, 0, 1, 0, 0, 1, 0, 0, 0, 0, 0, 0, 1, 1, 0, 1, 1, 1, 1,\n",
              "       0, 0, 1, 1, 1, 1, 0, 1, 0, 0, 0, 1, 0, 0, 0, 1, 0, 1, 1, 1, 0, 0,\n",
              "       0, 0, 1, 1, 0, 0, 0, 1, 0, 0, 1, 0, 0, 0, 0, 0, 0, 1, 0, 0, 0, 0,\n",
              "       1, 0, 0, 1, 1, 0, 1, 1, 0, 1, 0, 0, 0, 1, 1, 1, 1, 0, 0, 1, 1, 0,\n",
              "       0, 1, 1, 0, 0, 1, 1, 0, 1, 1, 0, 1, 1, 1, 0, 1, 1, 0, 0, 0, 1, 1,\n",
              "       0, 0, 1, 1, 1, 0, 1, 1, 0, 1, 0, 1, 0, 0, 1, 0, 0, 1, 1, 0, 0, 1,\n",
              "       0, 0, 0, 0, 0, 1, 0, 1, 0, 0, 0, 0, 1, 1, 1, 0, 0, 0, 1, 1, 1, 0,\n",
              "       1, 1, 1, 1, 1, 1, 1, 0, 0, 1, 1, 0, 1, 0, 0, 0, 0, 1, 0, 1, 1, 1,\n",
              "       0, 1, 1, 0, 0, 0, 1, 0, 0, 1, 1, 0, 0, 0, 1, 0, 1, 0, 1, 1, 1, 1,\n",
              "       0, 1, 0, 0, 1, 1, 1, 0, 0, 1, 1, 0, 0, 1, 1, 1, 0, 0, 0, 0, 0, 0,\n",
              "       1, 1, 1, 0, 1, 1, 0, 1, 1, 0, 0, 0, 0, 0], dtype=int64)"
            ]
          },
          "metadata": {
            "tags": []
          },
          "execution_count": 20
        }
      ]
    },
    {
      "cell_type": "markdown",
      "metadata": {
        "id": "R3VkchMMcW36"
      },
      "source": [
        "## Evaluation Metrics"
      ]
    },
    {
      "cell_type": "markdown",
      "metadata": {
        "id": "PVGwdh-ucW36"
      },
      "source": [
        "#### Confusion Matrix\n"
      ]
    },
    {
      "cell_type": "code",
      "metadata": {
        "id": "uj8lZFQkcW36",
        "outputId": "713e7652-c5fa-47a3-8701-5d4353a93bec"
      },
      "source": [
        "matrix = (confusion_matrix(Y_test,y_pred))\n",
        "for i in range(matrix.shape[0]):\n",
        "    for j in range(matrix.shape[1]):\n",
        "        print(matrix[i][j],end = \"     \")\n",
        "    print()"
      ],
      "execution_count": null,
      "outputs": [
        {
          "output_type": "stream",
          "text": [
            "320     49     \n",
            "61     244     \n"
          ],
          "name": "stdout"
        }
      ]
    },
    {
      "cell_type": "code",
      "metadata": {
        "id": "TvxgXM1qcW37",
        "outputId": "85ab87be-cd3d-4758-f6bf-a7bb5e1948b4"
      },
      "source": [
        "#Print Confusion Matrix\n",
        "print(\"CONFUSION MATRIX\")\n",
        "import seaborn as sns\n",
        "plt.figure(figsize=(18,4))\n",
        "uniform_data = np.random.rand(10, 12)\n",
        "ax = sns.heatmap(matrix, annot=True, cmap=\"YlGnBu\")\n",
        "bottom,top=ax.get_ylim()\n",
        "ax.set_ylim(bottom+0.5,top-0.5)\n",
        "plt.xlabel('True class value')\n",
        "plt.ylabel('Predicted class value')"
      ],
      "execution_count": null,
      "outputs": [
        {
          "output_type": "stream",
          "text": [
            "CONFUSION MATRIX\n"
          ],
          "name": "stdout"
        },
        {
          "output_type": "execute_result",
          "data": {
            "text/plain": [
              "Text(141.0, 0.5, 'Predicted class value')"
            ]
          },
          "metadata": {
            "tags": []
          },
          "execution_count": 22
        },
        {
          "output_type": "display_data",
          "data": {
            "image/png": "[encoded data removed]",
            "text/plain": [
              "<Figure size 1296x288 with 2 Axes>"
            ]
          },
          "metadata": {
            "tags": [],
            "needs_background": "light"
          }
        }
      ]
    },
    {
      "cell_type": "markdown",
      "metadata": {
        "id": "2PnRZGlQcW37"
      },
      "source": [
        "#### Classification Accuracy (B)"
      ]
    },
    {
      "cell_type": "code",
      "metadata": {
        "id": "aA2kA7NGcW38"
      },
      "source": [
        "def score(matrix):\n",
        "    \n",
        "    TP = matrix[0][0]\n",
        "    FP = matrix[0][1]\n",
        "    FN = matrix[1][0]\n",
        "    TN = matrix[1][1]\n",
        "    \n",
        "    accuracy = (TP + TN) / (TP + TN + FP + FN)\n",
        "    return accuracy*100"
      ],
      "execution_count": null,
      "outputs": []
    },
    {
      "cell_type": "code",
      "metadata": {
        "id": "7xJT_cfRcW38",
        "outputId": "3292ed72-9d45-418c-bb79-e268a431ab29"
      },
      "source": [
        "print(\"Accuracy of the model is : \", score(matrix), \" %\")"
      ],
      "execution_count": null,
      "outputs": [
        {
          "output_type": "stream",
          "text": [
            "Accuracy of the model is :  83.67952522255193  %\n"
          ],
          "name": "stdout"
        }
      ]
    },
    {
      "cell_type": "markdown",
      "metadata": {
        "id": "klqpaFZqcW38"
      },
      "source": [
        "#### Classification Report"
      ]
    },
    {
      "cell_type": "code",
      "metadata": {
        "id": "PS-bHT56cW39",
        "outputId": "69996b2b-d91f-4103-db4e-6bde11c2862d"
      },
      "source": [
        "report = classification_report(Y_test, y_pred, target_names=[\"Class 0\",\"Class 1\"])\n",
        "print(report)"
      ],
      "execution_count": null,
      "outputs": [
        {
          "output_type": "stream",
          "text": [
            "              precision    recall  f1-score   support\n",
            "\n",
            "     Class 0       0.84      0.87      0.85       369\n",
            "     Class 1       0.83      0.80      0.82       305\n",
            "\n",
            "    accuracy                           0.84       674\n",
            "   macro avg       0.84      0.83      0.83       674\n",
            "weighted avg       0.84      0.84      0.84       674\n",
            "\n"
          ],
          "name": "stdout"
        }
      ]
    },
    {
      "cell_type": "markdown",
      "metadata": {
        "id": "7gQ64tyacW39"
      },
      "source": [
        "#### ROC curve between FAR Vs GAR  (C) "
      ]
    },
    {
      "cell_type": "code",
      "metadata": {
        "id": "gZodV0o4cW3-",
        "outputId": "3ce3dba3-3d4d-4e6d-a372-9ebd3b378a6b"
      },
      "source": [
        "metrics.plot_roc_curve(clf, X_test, Y_test)\n",
        "plt.show()"
      ],
      "execution_count": null,
      "outputs": [
        {
          "output_type": "display_data",
          "data": {
            "image/png": "[encoded data removed]",
            "text/plain": [
              "<Figure size 432x288 with 1 Axes>"
            ]
          },
          "metadata": {
            "tags": [],
            "needs_background": "light"
          }
        }
      ]
    },
    {
      "cell_type": "markdown",
      "metadata": {
        "id": "H5h3fX2vcW3-"
      },
      "source": [
        "## Gaussian Naive Bayes Classifier (D) "
      ]
    },
    {
      "cell_type": "code",
      "metadata": {
        "id": "Xy7xxMa6cW3-"
      },
      "source": [
        "# setting priors as mentioned in the question\n",
        "\n",
        "clf2 = GaussianNB(priors=[0.1, 0.9])"
      ],
      "execution_count": null,
      "outputs": []
    },
    {
      "cell_type": "code",
      "metadata": {
        "id": "LcyL3QcrcW3_",
        "outputId": "574e46b6-4bd5-4c90-f9ca-2fd0efcf60ea"
      },
      "source": [
        "clf2.fit(X_train, Y_train)"
      ],
      "execution_count": null,
      "outputs": [
        {
          "output_type": "execute_result",
          "data": {
            "text/plain": [
              "GaussianNB(priors=[0.1, 0.9])"
            ]
          },
          "metadata": {
            "tags": []
          },
          "execution_count": 28
        }
      ]
    },
    {
      "cell_type": "code",
      "metadata": {
        "id": "Qd1cM7mPcW3_",
        "outputId": "d8c5ca15-919f-4e52-d200-f03d9102c95f"
      },
      "source": [
        "y_pred = clf2.predict(X_test)\n",
        "y_pred"
      ],
      "execution_count": null,
      "outputs": [
        {
          "output_type": "execute_result",
          "data": {
            "text/plain": [
              "array([1, 0, 1, 1, 1, 1, 0, 0, 1, 0, 1, 1, 1, 0, 1, 1, 1, 1, 1, 1, 0, 0,\n",
              "       1, 1, 1, 0, 1, 0, 0, 1, 0, 1, 1, 1, 1, 1, 1, 1, 0, 0, 0, 0, 0, 1,\n",
              "       0, 1, 1, 0, 1, 1, 1, 0, 0, 1, 0, 0, 1, 1, 0, 1, 1, 1, 0, 1, 1, 1,\n",
              "       1, 1, 1, 0, 1, 1, 1, 1, 0, 1, 0, 1, 0, 1, 0, 0, 0, 1, 1, 1, 0, 0,\n",
              "       1, 0, 1, 0, 0, 0, 0, 1, 1, 1, 1, 1, 1, 0, 0, 1, 0, 0, 1, 0, 1, 1,\n",
              "       1, 0, 0, 1, 1, 0, 1, 1, 1, 1, 1, 1, 0, 1, 0, 1, 0, 1, 0, 1, 0, 0,\n",
              "       0, 0, 0, 0, 0, 0, 0, 0, 1, 1, 1, 1, 0, 0, 1, 1, 0, 1, 0, 0, 1, 1,\n",
              "       1, 0, 0, 1, 1, 1, 1, 0, 1, 0, 1, 0, 1, 0, 1, 0, 0, 1, 0, 1, 1, 1,\n",
              "       0, 1, 0, 0, 1, 0, 0, 1, 0, 1, 1, 1, 0, 0, 1, 1, 0, 1, 0, 1, 0, 0,\n",
              "       1, 1, 1, 0, 1, 1, 1, 0, 1, 0, 1, 1, 0, 0, 1, 0, 1, 0, 1, 0, 0, 1,\n",
              "       1, 1, 0, 0, 1, 1, 1, 0, 1, 1, 0, 1, 0, 1, 1, 1, 0, 1, 0, 0, 1, 1,\n",
              "       0, 1, 1, 1, 1, 1, 1, 1, 0, 1, 1, 1, 1, 0, 0, 1, 0, 0, 0, 1, 1, 1,\n",
              "       1, 0, 1, 1, 1, 1, 1, 1, 0, 0, 1, 1, 1, 0, 0, 0, 1, 1, 1, 0, 1, 1,\n",
              "       1, 0, 1, 1, 0, 0, 0, 0, 1, 0, 0, 1, 1, 0, 0, 0, 1, 0, 1, 0, 1, 0,\n",
              "       1, 0, 0, 0, 0, 1, 0, 0, 0, 1, 1, 1, 0, 1, 1, 1, 1, 0, 1, 1, 1, 1,\n",
              "       1, 1, 0, 0, 1, 1, 1, 0, 1, 1, 1, 0, 1, 1, 1, 1, 1, 1, 1, 0, 1, 1,\n",
              "       1, 1, 1, 1, 0, 0, 1, 1, 1, 1, 1, 1, 0, 1, 0, 0, 1, 0, 1, 1, 1, 1,\n",
              "       0, 1, 1, 0, 1, 0, 1, 0, 1, 0, 1, 0, 1, 1, 0, 0, 0, 0, 1, 0, 0, 0,\n",
              "       1, 0, 0, 0, 1, 1, 1, 0, 0, 1, 1, 1, 1, 1, 1, 1, 0, 0, 0, 1, 0, 0,\n",
              "       1, 0, 0, 0, 1, 0, 0, 0, 1, 1, 1, 1, 1, 1, 1, 0, 0, 1, 1, 0, 0, 1,\n",
              "       1, 0, 0, 1, 1, 1, 1, 0, 1, 0, 0, 1, 0, 0, 0, 1, 1, 0, 1, 1, 1, 1,\n",
              "       1, 0, 1, 1, 1, 1, 1, 1, 1, 0, 0, 1, 0, 1, 1, 1, 0, 1, 1, 1, 1, 0,\n",
              "       0, 0, 1, 1, 0, 0, 0, 1, 0, 0, 1, 0, 0, 0, 0, 0, 1, 1, 1, 1, 0, 1,\n",
              "       1, 0, 0, 1, 1, 0, 1, 1, 1, 1, 0, 0, 1, 1, 1, 1, 1, 0, 0, 1, 1, 0,\n",
              "       1, 1, 1, 0, 0, 1, 1, 0, 1, 1, 0, 1, 1, 1, 0, 1, 1, 1, 1, 1, 1, 1,\n",
              "       0, 1, 1, 1, 1, 0, 1, 1, 0, 1, 1, 1, 0, 0, 1, 0, 1, 1, 1, 1, 1, 1,\n",
              "       0, 0, 1, 1, 0, 1, 0, 1, 0, 0, 0, 0, 1, 1, 1, 0, 0, 1, 1, 1, 1, 0,\n",
              "       1, 1, 1, 1, 1, 1, 1, 1, 1, 1, 1, 0, 1, 0, 0, 0, 1, 1, 0, 1, 1, 1,\n",
              "       0, 1, 1, 0, 0, 0, 1, 0, 1, 1, 1, 0, 1, 1, 1, 0, 1, 1, 1, 1, 1, 1,\n",
              "       0, 1, 1, 0, 1, 1, 1, 0, 1, 1, 1, 0, 0, 1, 1, 1, 0, 1, 0, 1, 0, 1,\n",
              "       1, 1, 1, 0, 1, 1, 1, 1, 1, 0, 0, 1, 1, 1], dtype=int64)"
            ]
          },
          "metadata": {
            "tags": []
          },
          "execution_count": 29
        }
      ]
    },
    {
      "cell_type": "markdown",
      "metadata": {
        "id": "AIjlavXQcW3_"
      },
      "source": [
        "## Evaluation Metrics"
      ]
    },
    {
      "cell_type": "markdown",
      "metadata": {
        "id": "98njpcMIcW4A"
      },
      "source": [
        "#### Confusion Matrix"
      ]
    },
    {
      "cell_type": "code",
      "metadata": {
        "id": "tToVvvkCcW4A",
        "outputId": "50c29859-c459-4573-fcea-4ee8e8ac0fcf"
      },
      "source": [
        "matrix = (confusion_matrix(Y_test,y_pred))\n",
        "for i in range(matrix.shape[0]):\n",
        "    for j in range(matrix.shape[1]):\n",
        "        print(matrix[i][j],end = \"     \")\n",
        "    print()"
      ],
      "execution_count": null,
      "outputs": [
        {
          "output_type": "stream",
          "text": [
            "258     111     \n",
            "6     299     \n"
          ],
          "name": "stdout"
        }
      ]
    },
    {
      "cell_type": "code",
      "metadata": {
        "id": "HLkUAexncW4A",
        "outputId": "4d3b39a2-c572-4b15-edef-392ea21e6d5e"
      },
      "source": [
        "#Print Confusion Matrix\n",
        "print(\"CONFUSION MATRIX\")\n",
        "import seaborn as sns\n",
        "plt.figure(figsize=(18,4))\n",
        "uniform_data = np.random.rand(10, 12)\n",
        "ax = sns.heatmap(matrix, annot=True, cmap=\"YlGnBu\")\n",
        "bottom,top=ax.get_ylim()\n",
        "ax.set_ylim(bottom+0.5,top-0.5)\n",
        "plt.xlabel('True class value')\n",
        "plt.ylabel('Predicted class value')"
      ],
      "execution_count": null,
      "outputs": [
        {
          "output_type": "stream",
          "text": [
            "CONFUSION MATRIX\n"
          ],
          "name": "stdout"
        },
        {
          "output_type": "execute_result",
          "data": {
            "text/plain": [
              "Text(141.0, 0.5, 'Predicted class value')"
            ]
          },
          "metadata": {
            "tags": []
          },
          "execution_count": 31
        },
        {
          "output_type": "display_data",
          "data": {
            "image/png": "[encoded data removed]",
            "text/plain": [
              "<Figure size 1296x288 with 2 Axes>"
            ]
          },
          "metadata": {
            "tags": [],
            "needs_background": "light"
          }
        }
      ]
    },
    {
      "cell_type": "markdown",
      "metadata": {
        "id": "kwdfcZV0cW4B"
      },
      "source": [
        "#### Classification Accuracy (D)"
      ]
    },
    {
      "cell_type": "code",
      "metadata": {
        "id": "73V9ODL7cW4B",
        "outputId": "c08729ce-f462-4333-e01e-aaf7e2494a55"
      },
      "source": [
        "print(\"Accuracy of the model is : \", score(matrix), \" %\")"
      ],
      "execution_count": null,
      "outputs": [
        {
          "output_type": "stream",
          "text": [
            "Accuracy of the model is :  82.64094955489614  %\n"
          ],
          "name": "stdout"
        }
      ]
    },
    {
      "cell_type": "markdown",
      "metadata": {
        "id": "c8jWIpGtcW4C"
      },
      "source": [
        "#### Classification Report"
      ]
    },
    {
      "cell_type": "code",
      "metadata": {
        "id": "S8DoVHFKcW4C",
        "outputId": "7280fccf-c24f-4edf-f925-f947aea059d1"
      },
      "source": [
        "report = classification_report(Y_test, y_pred, target_names=[\"Class 0\",\"Class 1\"])\n",
        "print(report)"
      ],
      "execution_count": null,
      "outputs": [
        {
          "output_type": "stream",
          "text": [
            "              precision    recall  f1-score   support\n",
            "\n",
            "     Class 0       0.98      0.70      0.82       369\n",
            "     Class 1       0.73      0.98      0.84       305\n",
            "\n",
            "    accuracy                           0.83       674\n",
            "   macro avg       0.85      0.84      0.83       674\n",
            "weighted avg       0.87      0.83      0.82       674\n",
            "\n"
          ],
          "name": "stdout"
        }
      ]
    },
    {
      "cell_type": "markdown",
      "metadata": {
        "id": "YXcEkVErcW4C"
      },
      "source": [
        "#### ROC Curve Between FAR Vs GAR (D)"
      ]
    },
    {
      "cell_type": "code",
      "metadata": {
        "id": "13rnU51ocW4D",
        "outputId": "6cdedc66-55d7-4ac9-b5f4-e21a67b325f3"
      },
      "source": [
        "metrics.plot_roc_curve(clf2, X_test, Y_test)\n",
        "plt.show()"
      ],
      "execution_count": null,
      "outputs": [
        {
          "output_type": "display_data",
          "data": {
            "image/png": "[encoded data removed]",
            "text/plain": [
              "<Figure size 432x288 with 1 Axes>"
            ]
          },
          "metadata": {
            "tags": [],
            "needs_background": "light"
          }
        }
      ]
    },
    {
      "cell_type": "markdown",
      "metadata": {
        "id": "0y-icU0mcW4D"
      },
      "source": [
        "######   END OF ASSIGNMENT\n"
      ]
    }
  ]
}